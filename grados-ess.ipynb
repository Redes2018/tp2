{
 "cells": [
  {
   "cell_type": "code",
   "execution_count": 1,
   "metadata": {
    "collapsed": true
   },
   "outputs": [],
   "source": [
    "import sys\n",
    "sys.path.append('/usr/local/lib/python3.5/site-packages')\n",
    "import numpy as np\n",
    "import matplotlib.pyplot as plt\n",
    "import pandas as pd\n",
    "import networkx as nx\n",
    "import os"
   ]
  },
  {
   "cell_type": "code",
   "execution_count": 52,
   "metadata": {},
   "outputs": [],
   "source": [
    "carpeta = (os.getcwd()+'/tc02Data/')\n",
    "\n",
    "# Nombres de los archivos: yeast_(...).txt\n",
    "archivos = ['Y2H','AP-MS','LIT','LIT_Reguly']\n",
    "\n",
    "# Lista donde se van a ir agregando los grafos en el orden de los archivos\n",
    "Gs = []\n",
    "\n",
    "for j,archivo in enumerate(archivos):\n",
    "    data = pd.read_csv(carpeta+'yeast_'+archivo+'.txt', sep='\\t', header=None)\n",
    "    \n",
    "    G = nx.Graph()\n",
    "    \n",
    "    for i in range(len(data)):\n",
    "        G.add_edges_from([(data[0][i],data[1][i])])\n",
    "    Gs.append(G)\n",
    "\n",
    "# El último archivo, LIT_Reguly, es el único que tiene encabezado\n",
    "# Quise poner header automático pero devuelve un error, así que elimino lo que sobra a lo bruto\n",
    "Gs[3].remove_node(\"Bait gene/protein\")\n",
    "Gs[3].remove_node(\"Hit gene/protein\")"
   ]
  },
  {
   "cell_type": "code",
   "execution_count": null,
   "metadata": {
    "collapsed": true
   },
   "outputs": [],
   "source": [
    "# Proteinas esenciales\n",
    "data_ess = pd.read_csv(carpeta+'Essential_ORFs_paperHe.txt', sep='\\t', header=0,skipfooter=4,usecols=[1])\n",
    "\n",
    "# Para eliminar los espacios en los nombres de las proteinas\n",
    "data_ess['ORF_name'] = data_ess['ORF_name'].map(lambda x: x.strip())\n",
    "\n",
    "ess = data_ess[\"ORF_name\"].tolist()\n",
    "del ess[0] # como antes, elimino el encabezado\n",
    "\n",
    "# ess es la lista de proteinas esenciales"
   ]
  },
  {
   "cell_type": "code",
   "execution_count": 56,
   "metadata": {},
   "outputs": [],
   "source": [
    "# Agrego la caracteristica de ser o no esencial\n",
    "\n",
    "for G in Gs:\n",
    "    nodos_G = set(G.nodes()) # set de nodos de G\n",
    "    nodos_ess_G = nodos_G.intersection(set(ess)) # nodos esenciales de G (como interseccion entre nodos de G y esenciales)\n",
    "    nodos_no_ess_G = nodos_G.difference(set(ess)) # nodos no esenciales de G (como diferencia entre nodos de G y esenciales)\n",
    "    \n",
    "    # Agrego el atributo correspondiente a cada nodo\n",
    "    G.add_nodes_from(nodos_ess_G, essential=True)\n",
    "    G.add_nodes_from(nodos_no_ess_G, essential=False)\n",
    "\n",
    "# Para comprobarlo me fije que la cantidad de nodos sea la misma antes y despues de esto"
   ]
  },
  {
   "cell_type": "code",
   "execution_count": 58,
   "metadata": {},
   "outputs": [],
   "source": [
    "grados_dict = dict(G.degree())\n",
    "ess_dict = nx.get_node_attributes(G,'essential')\n",
    "\n",
    "k_lista = list(grados_dict.values()) # lista de grados de nodos en orden\n",
    "k = np.unique(k_lista) # vector de grado de nodos sin repetir\n",
    "\n",
    "L = len(k)\n",
    "nodos_ess = np.zeros(L)\n",
    "nodos_total = np.zeros(L)\n",
    "nodos_frac = np.zeros(L)\n",
    "\n",
    "N = G.number_of_nodes()\n",
    "\n",
    "for i,grado in enumerate(k):\n",
    "    nodos_total[i] = k_lista.count(grado)\n",
    "    # cuenta cuantas veces aparece cada grado en k_lista\n",
    "    \n",
    "for proteina in ess_dict:\n",
    "    if ess_dict[proteina] == True:\n",
    "        i = np.where(k == grados_dict[proteina])\n",
    "        nodos_ess[i] += 1\n",
    "    \n",
    "\n",
    "nodos_frac = nodos_ess / nodos_total\n"
   ]
  },
  {
   "cell_type": "code",
   "execution_count": 66,
   "metadata": {},
   "outputs": [
    {
     "data": {
      "image/png": "[encoded data removed]",
      "text/plain": [
       "<matplotlib.figure.Figure at 0x7c1de865f8>"
      ]
     },
     "metadata": {},
     "output_type": "display_data"
    }
   ],
   "source": [
    "plt.figure(figsize=(16, 4))\n",
    "\n",
    "plt.subplot(1,3,1)\n",
    "plt.plot(k,nodos_total,'.b')\n",
    "plt.xlabel('k')\n",
    "plt.ylabel('# nodos totales')\n",
    "\n",
    "plt.subplot(1,3,2)\n",
    "plt.plot(k,nodos_ess,'.r')\n",
    "plt.xlabel('k')\n",
    "plt.ylabel('# nodos esenciales')\n",
    "\n",
    "plt.subplot(1,3,3)\n",
    "plt.plot(k,nodos_frac,'.g')\n",
    "plt.xlabel('k')\n",
    "plt.ylabel('Fracción de nodos esenciales')\n",
    "\n",
    "plt.show()"
   ]
  },
  {
   "cell_type": "code",
   "execution_count": null,
   "metadata": {
    "collapsed": true
   },
   "outputs": [],
   "source": []
  }
 ],
 "metadata": {
  "kernelspec": {
   "display_name": "Python 3",
   "language": "python",
   "name": "python3"
  },
  "language_info": {
   "codemirror_mode": {
    "name": "ipython",
    "version": 3
   },
   "file_extension": ".py",
   "mimetype": "text/x-python",
   "name": "python",
   "nbconvert_exporter": "python",
   "pygments_lexer": "ipython3",
   "version": "3.6.3"
  }
 },
 "nbformat": 4,
 "nbformat_minor": 2
}
