{
 "cells": [
  {
   "cell_type": "code",
   "execution_count": 1,
   "metadata": {
    "collapsed": true
   },
   "outputs": [],
   "source": [
    "import sys\n",
    "sys.path.append('/usr/local/lib/python3.5/site-packages')\n",
    "import numpy as np\n",
    "import matplotlib.pyplot as plt\n",
    "import pandas as pd\n",
    "import networkx as nx\n",
    "import os"
   ]
  },
  {
   "cell_type": "code",
   "execution_count": 40,
   "metadata": {},
   "outputs": [
    {
     "name": "stderr",
     "output_type": "stream",
     "text": [
      "/usr/local/lib/python2.7/dist-packages/ipykernel_launcher.py:4: ParserWarning: Falling back to the 'python' engine because the 'c' engine does not support skip_footer; you can avoid this warning by specifying engine='python'.\n",
      "  after removing the cwd from sys.path.\n"
     ]
    }
   ],
   "source": [
    "carpeta = (os.getcwd()+'/tc02Data/')\n",
    "\n",
    "# Lista de proteinas esenciales\n",
    "data_ess = pd.read_csv(carpeta+'Essential_ORFs_paperHe.txt', sep='\\t', header=0,skipfooter=4,usecols=[1])\n",
    "data_ess['ORF_name'] = data_ess['ORF_name'].map(lambda x: x.strip()) \n",
    "ess = data_ess[\"ORF_name\"].tolist()\n",
    "del ess[0]\n",
    "\n",
    "# Lista de grafos\n",
    "archivos = ['Y2H','AP-MS','LIT','LIT_Reguly']\n",
    "Gs = []\n",
    "\n",
    "for j,arc in enumerate(archivos):\n",
    "    data = pd.read_csv(carpeta+'yeast_'+arc+'.txt', sep='\\t', header=None)\n",
    "    \n",
    "    G = nx.Graph()\n",
    "    \n",
    "    for i in range(len(data)):\n",
    "        G.add_edges_from([(data[0][i],data[1][i])])\n",
    "    Gs.append(G)"
   ]
  },
  {
   "cell_type": "code",
   "execution_count": 43,
   "metadata": {},
   "outputs": [],
   "source": [
    "# Agrego la caracteristica de ser o no esencial\n",
    "\n",
    "nodos_G = set(G.nodes()) # set de nodos de G\n",
    "nodos_ess_G = nodos_G.intersection(set(ess)) # nodos esenciales de G (como interseccion entre nodos de G y esenciales)\n",
    "nodos_no_ess_G = nodos_G.difference(set(ess)) # nodos no esenciales de G (como diferencia entre nodos de G y esenciales)\n",
    "\n",
    "# Agrego el atributo correspondiente a cada nodo\n",
    "G.add_nodes_from(nodos_ess_G, essential=True)\n",
    "G.add_nodes_from(nodos_no_ess_G, essential=False)\n",
    "\n",
    "# Para comprobarlo me fije que la cantidad de nodos sea la misma antes y despues de esto\n"
   ]
  },
  {
   "cell_type": "code",
   "execution_count": 15,
   "metadata": {
    "collapsed": true
   },
   "outputs": [],
   "source": [
    "grados_dict = G.degree()\n",
    "\n",
    "k_lista = list(grados_dict.values())\n",
    "k_lista = np.unique(k_lista) # vector de grado de nodos\n",
    "\n",
    "L = len(k_lista)\n",
    "nodos_ess = np.zeros(L)\n",
    "nodos_total = np.zeros(L)\n",
    "nodos_frac = np.zeros(L)\n",
    "\n",
    "for i,grado in enumerate(k_lista):\n",
    "    nodos_total[i] = grados_dict.values().count(grado)\n",
    "    # cuenta cuantas veces aparece cada grado de k_lista\n",
    "\n",
    "# FALTA CONTAR LOS ESENCIALES"
   ]
  },
  {
   "cell_type": "code",
   "execution_count": null,
   "metadata": {
    "collapsed": true
   },
   "outputs": [],
   "source": []
  }
 ],
 "metadata": {
  "kernelspec": {
   "display_name": "Python 2",
   "language": "python",
   "name": "python2"
  },
  "language_info": {
   "codemirror_mode": {
    "name": "ipython",
    "version": 2
   },
   "file_extension": ".py",
   "mimetype": "text/x-python",
   "name": "python",
   "nbconvert_exporter": "python",
   "pygments_lexer": "ipython2",
   "version": "2.7.12"
  }
 },
 "nbformat": 4,
 "nbformat_minor": 2
}
