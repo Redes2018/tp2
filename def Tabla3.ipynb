{
 "cells": [
  {
   "cell_type": "code",
   "execution_count": 64,
   "metadata": {},
   "outputs": [],
   "source": [
    "import sys\n",
    "sys.path.append('/usr/local/lib/python3.5/site-packages')\n",
    "import numpy as np\n",
    "import matplotlib.pyplot as plt\n",
    "import pandas as pd\n",
    "import networkx as nx\n",
    "import os\n",
    "import random "
   ]
  },
  {
   "cell_type": "code",
   "execution_count": 65,
   "metadata": {},
   "outputs": [],
   "source": [
    "carpeta = (os.getcwd()+'/tc02Data/')\n",
    "\n",
    "# Nombres de los archivos: yeast_(...).txt\n",
    "archivos = ['Y2H','AP-MS','LIT','LIT_Reguly']\n",
    "\n",
    "# Lista donde se van a ir agregando los grafos en el orden de los archivos\n",
    "Gs = []\n",
    "\n",
    "for j,archivo in enumerate(archivos):\n",
    "    data = pd.read_csv(carpeta+'yeast_'+archivo+'.txt', sep='\\t', header=None)\n",
    "    \n",
    "    G = nx.Graph()\n",
    "    \n",
    "    for i in range(len(data)):\n",
    "        G.add_edges_from([(data[0][i],data[1][i])])\n",
    "    Gs.append(G)\n",
    "\n",
    "# El último archivo, LIT_Reguly, es el único que tiene encabezado\n",
    "# Quise poner header automático pero devuelve un error, así que elimino lo que sobra a lo bruto\n",
    "Gs[3].remove_node(\"Bait gene/protein\")\n",
    "Gs[3].remove_node(\"Hit gene/protein\")"
   ]
  },
  {
   "cell_type": "code",
   "execution_count": 66,
   "metadata": {},
   "outputs": [
    {
     "name": "stderr",
     "output_type": "stream",
     "text": [
      "C:\\Users\\lucio\\Anaconda3\\lib\\site-packages\\ipykernel_launcher.py:2: ParserWarning: Falling back to the 'python' engine because the 'c' engine does not support skipfooter; you can avoid this warning by specifying engine='python'.\n",
      "  \n"
     ]
    }
   ],
   "source": [
    "# Proteinas esenciales\n",
    "data_ess = pd.read_csv(carpeta+'Essential_ORFs_paperHe.txt', sep='\\t', header=0,skipfooter=4,usecols=[1])\n",
    "\n",
    "# Para eliminar los espacios en los nombres de las proteinas\n",
    "data_ess['ORF_name'] = data_ess['ORF_name'].map(lambda x: x.strip())\n",
    "\n",
    "ess = data_ess[\"ORF_name\"].tolist()\n",
    "del ess[0] # como antes, elimino el encabezado\n",
    "\n",
    "# ess es la lista de proteinas esenciales"
   ]
  },
  {
   "cell_type": "code",
   "execution_count": 40,
   "metadata": {},
   "outputs": [
    {
     "data": {
      "image/png": "[encoded data removed]",
      "text/plain": [
       "<Figure size 648x360 with 2 Axes>"
      ]
     },
     "metadata": {
      "needs_background": "light"
     },
     "output_type": "display_data"
    }
   ],
   "source": [
    "#Veamos como se comportan los graficos\n",
    "from funciones import esenciales\n",
    "from funciones import frac_ess\n",
    "#G=Gs[0]\n",
    "H=G.copy()\n",
    "F=G.copy()\n",
    "L = len(G)\n",
    "\n",
    "(H,nodos_ess, nodos_noess)=esenciales(H,ess)\n",
    "(k1, frac_es, a, b, c, d)=frac_ess(H) \n",
    "\n",
    "(F,nodos_ess, nodos_noess)=esenciales(F,nodos_noess) #NE le saco le paso la lista de nodos no es como la lista de los es\n",
    "(k2, frac_no_es, a, b, c, d)=frac_ess(F) \n",
    "\n",
    "\n",
    "plt.figure(figsize=(9,5))\n",
    "\n",
    "plt.subplot(1,2,1)\n",
    "plt.plot(k1, frac_es,'r.',markersize=10,label='ESS')\n",
    "plt.xlabel('grados')\n",
    "plt.ylabel('fraccion nodos ess')\n",
    "plt.legend()\n",
    "\n",
    "plt.subplot(1,2,2)\n",
    "plt.plot(k2, frac_no_es,'r.',markersize=10,label='NO ESS')\n",
    "plt.xlabel('grados')\n",
    "plt.ylabel('fraccion nodos no ess')\n",
    "plt.legend()\n",
    "\n",
    "plt.show()\n"
   ]
  },
  {
   "cell_type": "code",
   "execution_count": 149,
   "metadata": {},
   "outputs": [],
   "source": [
    "from funciones import esenciales\n",
    "from funciones import frac_ess\n",
    "\n",
    "#G=Gs[0]\n",
    "G0 = G.copy()\n",
    "E = G.copy()\n",
    "NE = G.copy()\n",
    "G1 = G.copy()\n",
    "G2 = G.copy()\n",
    "L = len(G)\n",
    "\n",
    "lcc_ess= np.zeros(L) #componente gigante obtenida mediante remoción de nodos esenciales (eje y)\n",
    "lcc_ess[0] = L # la primera componente es el tamaño original del grafo\n",
    "lcc_no_ess= np.zeros(L) #componente gigante obtenida mediante remocion de nodos no esenciales (eje y)\n",
    "lcc_no_ess[0] = L # la primera componente es el tamaño original del grafo\n",
    "\n",
    "(G1,ls_ess1, ls_no_ess1)=esenciales(G1,ess)\n",
    "(k1, frac_es, a, b, c, d)=frac_ess(G1) \n",
    "(G2,ls_ess2, ls_no_ess2)=esenciales(G2,nodos_noess) #NE le paso la lista de nodos N.E. asi después uso frac_ess\n",
    "(k2, frac_no_es, a, b, c, d)=frac_ess(G2) \n",
    " \n",
    "    \n",
    "#Le saco todas las esenciales de una\n",
    "NE.remove_nodes_from(ls_ess1) #Le saco todos los esenciales\n",
    "lcc_ess = len(max(nx.connected_component_subgraphs(NE),key=len))/L\n",
    "degrees_no_es = [val for (node, val) in NE.degree()]\n",
    "k_no_es=np.unique(degrees_no_es)\n",
    "\n",
    "#Ahora le saco a G2\n",
    "#Primero veamos los grados de los nodos esenciales que saque en G1\n",
    "E.remove_nodes_from(ls_no_ess1) #Le saco todos los no esenciales\n",
    "degrees_es = [val for (node, val) in E.degree()]\n",
    "k_es=np.unique(degrees_es)\n",
    "\n",
    "#Ahora seleccionemos de NE los que tengan grados similares\n",
    "\n",
    "(g,nodos_ess, nodos_noess)=esenciales(G2,ls_no_ess) #a G2 le paso la lista de nodos no es, asi los selecciono más facil\n",
    "    \n",
    "no_ess_dict = nx.get_node_attributes(G2,'essential') #armo lista con los no esenciales, el 'essential' me esta marcando los no esenciales \n",
    "    \n",
    "(x2, y2)=frac_ess(G2) \n",
    "l=len(x2)\n",
    "    \n",
    "for grado in range(l-1): #recorro los grados, y le saco a G2 la cantidad de nodos no esenciales en ese grado (saco ordenado de mM)\n",
    "    counter=0\n",
    "    for nodo in no_ess_dict:\n",
    "        if (counter < len(ls_no_ess) and no_ess_dict[nodo] == True and G2.degree(nodo) == grado):\n",
    "            G2.remove_node(ls_no_ess[counter])\n",
    "            lcc_noess[counter+1] = len(max(nx.connected_component_subgraphs(G2),key=len)) #acá voy rellenando la lcc\n",
    "        counter= counter+1\n",
    "        \n",
    "#y=(len(lcc_noess))/L"
   ]
  },
  {
   "cell_type": "code",
   "execution_count": 40,
   "metadata": {},
   "outputs": [
    {
     "data": {
      "text/html": [
       "<div>\n",
       "<style scoped>\n",
       "    .dataframe tbody tr th:only-of-type {\n",
       "        vertical-align: middle;\n",
       "    }\n",
       "\n",
       "    .dataframe tbody tr th {\n",
       "        vertical-align: top;\n",
       "    }\n",
       "\n",
       "    .dataframe thead th {\n",
       "        text-align: right;\n",
       "    }\n",
       "</style>\n",
       "<table border=\"1\" class=\"dataframe\">\n",
       "  <thead>\n",
       "    <tr style=\"text-align: right;\">\n",
       "      <th></th>\n",
       "      <th>Red</th>\n",
       "      <th>Frac. de nodos sacando: esenciales</th>\n",
       "      <th>Frac. de nodos sacando: no esenciales</th>\n",
       "    </tr>\n",
       "  </thead>\n",
       "  <tbody>\n",
       "    <tr>\n",
       "      <th>0</th>\n",
       "      <td>G</td>\n",
       "      <td>0.27094</td>\n",
       "      <td>0.27094</td>\n",
       "    </tr>\n",
       "  </tbody>\n",
       "</table>\n",
       "</div>"
      ],
      "text/plain": [
       "  Red  Frac. de nodos sacando: esenciales  \\\n",
       "0   G                             0.27094   \n",
       "\n",
       "   Frac. de nodos sacando: no esenciales  \n",
       "0                                0.27094  "
      ]
     },
     "execution_count": 40,
     "metadata": {},
     "output_type": "execute_result"
    }
   ],
   "source": [
    "#x=(len(lcc_ess))/L\n",
    "\n",
    "#y=(len(lcc_noess))/L\n",
    "\n",
    "# Creamos la tabla con las caracteristicas de las redes\n",
    "haytabla = pd.DataFrame({\"Red\":[\"G\"],\n",
    "                        \"Frac. de nodos sacando: esenciales\":x,\n",
    "                        \"Frac. de nodos sacando: no esenciales\":y,\n",
    "                        })\n",
    "haytabla\n"
   ]
  },
  {
   "cell_type": "code",
   "execution_count": 67,
   "metadata": {},
   "outputs": [
    {
     "name": "stdout",
     "output_type": "stream",
     "text": [
      "[ 0  1  2  3  4  5  6  7  8  9 10 11 12 13 14 15 16 17 18 19 20 21 22 23\n",
      " 25 26 27 28 29 30 32 35 36 38 39 40 41 42 43 44 51 52 53 57 65 95]\n",
      "[  0   1   2   3   4   5   6   7   8   9  10  11  12  13  14  15  16  17\n",
      "  18  19  20  21  22  23  24  27  28  29  30  33  37  43  44  71 167 250]\n"
     ]
    }
   ],
   "source": [
    "#Veamos como se comportan los graficos\n",
    "from funciones import esenciales\n",
    "from funciones import frac_ess\n",
    "\n",
    "#G=Gs[0]\n",
    "G0 = G.copy()\n",
    "E = G.copy()\n",
    "NE = G.copy()\n",
    "G1 = G.copy()\n",
    "G2 = G.copy()\n",
    "L = len(G)\n",
    "\n",
    "lcc_ess= np.zeros(L) #componente gigante obtenida mediante remoción de nodos esenciales (eje y)\n",
    "lcc_ess[0] = L # la primera componente es el tamaño original del grafo\n",
    "lcc_no_ess= np.zeros(L) #componente gigante obtenida mediante remocion de nodos no esenciales (eje y)\n",
    "lcc_no_ess[0] = L # la primera componente es el tamaño original del grafo\n",
    "\n",
    "(G1,ls_ess1, ls_no_ess1)=esenciales(G1,ess)\n",
    "(k1, frac_es, a, b, c, d)=frac_ess(G1) \n",
    "(G2,ls_ess2, ls_no_ess2)=esenciales(G2,nodos_noess) #NE le paso la lista de nodos N.E. asi después uso frac_ess\n",
    "(k2, frac_no_es, a, b, c, d)=frac_ess(G2) \n",
    " \n",
    "    \n",
    "#Le saco todas las esenciales de una\n",
    "NE.remove_nodes_from(ls_ess1) #Le saco todos los esenciales\n",
    "lcc_ess = len(max(nx.connected_component_subgraphs(NE),key=len))/L\n",
    "degrees_no_es = [val for (node, val) in NE.degree()]\n",
    "k_no_es=np.unique(degrees_no_es)\n",
    "\n",
    "#Ahora le saco a G2\n",
    "#Veamos los grados de los nodos esenciales que saque en G1\n",
    "E.remove_nodes_from(ls_no_ess1) #Le saco todos los no esenciales\n",
    "degrees_es = [val for (node, val) in E.degree()]\n",
    "k_es=np.unique(degrees_es)\n",
    "\n",
    "print(k_es)\n",
    "print(k_no_es)"
   ]
  },
  {
   "cell_type": "code",
   "execution_count": null,
   "metadata": {},
   "outputs": [],
   "source": []
  },
  {
   "cell_type": "code",
   "execution_count": null,
   "metadata": {},
   "outputs": [],
   "source": []
  },
  {
   "cell_type": "code",
   "execution_count": null,
   "metadata": {},
   "outputs": [],
   "source": []
  },
  {
   "cell_type": "code",
   "execution_count": null,
   "metadata": {},
   "outputs": [],
   "source": []
  },
  {
   "cell_type": "code",
   "execution_count": null,
   "metadata": {},
   "outputs": [],
   "source": []
  },
  {
   "cell_type": "code",
   "execution_count": null,
   "metadata": {},
   "outputs": [],
   "source": []
  },
  {
   "cell_type": "code",
   "execution_count": null,
   "metadata": {},
   "outputs": [],
   "source": []
  },
  {
   "cell_type": "code",
   "execution_count": null,
   "metadata": {},
   "outputs": [],
   "source": []
  },
  {
   "cell_type": "code",
   "execution_count": null,
   "metadata": {},
   "outputs": [],
   "source": []
  },
  {
   "cell_type": "code",
   "execution_count": null,
   "metadata": {},
   "outputs": [],
   "source": []
  },
  {
   "cell_type": "code",
   "execution_count": null,
   "metadata": {},
   "outputs": [],
   "source": []
  }
 ],
 "metadata": {
  "kernelspec": {
   "display_name": "Python 3",
   "language": "python",
   "name": "python3"
  },
  "language_info": {
   "codemirror_mode": {
    "name": "ipython",
    "version": 3
   },
   "file_extension": ".py",
   "mimetype": "text/x-python",
   "name": "python",
   "nbconvert_exporter": "python",
   "pygments_lexer": "ipython3",
   "version": "3.7.0"
  }
 },
 "nbformat": 4,
 "nbformat_minor": 2
}
