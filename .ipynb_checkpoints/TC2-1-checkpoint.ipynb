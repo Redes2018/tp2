{
 "cells": [
  {
   "cell_type": "code",
   "execution_count": 5,
   "metadata": {},
   "outputs": [],
   "source": [
    "import sys\n",
    "sys.path.append('/usr/local/lib/python3.5/site-packages')\n",
    "import numpy as np\n",
    "import matplotlib.pyplot as plt\n",
    "import pandas as pd\n",
    "import networkx as nx\n",
    "import os"
   ]
  },
  {
   "cell_type": "code",
   "execution_count": 6,
   "metadata": {},
   "outputs": [],
   "source": [
    "carpeta = (os.getcwd()+'/tc02Data/') #busca en el directorio actual\n",
    "\n",
    "archivos = ['Y2H','AP-MS','LIT','LIT_Reguly']\n",
    "# Qué es el archivo Essential_ORFs_paperHe.txt ?\n"
   ]
  },
  {
   "cell_type": "code",
   "execution_count": 9,
   "metadata": {},
   "outputs": [],
   "source": [
    "L = len(archivos)\n",
    "N = np.zeros(L)\n",
    "M = np.zeros(L)\n",
    "k_m = np.zeros(L)\n",
    "C = np.zeros(L)\n",
    "G2 = []\n",
    "\n",
    "for j,arc in enumerate(archivos):\n",
    "    data = pd.read_csv(carpeta+'yeast_'+arc+'.txt', sep='\\t', header=None)\n",
    "    \n",
    "    G = nx.Graph()\n",
    "    \n",
    "    for i in range(len(data)):\n",
    "        G.add_edges_from([(data[0][i],data[1][i])])\n",
    "    \n",
    "    N[j] = G.number_of_nodes()\n",
    "    M[j] = G.number_of_edges()\n",
    "    k_m[j] = 2*M[j]/N[j]\n",
    "    C[j] = nx.average_clustering(G)\n",
    "    G2.append(G)"
   ]
  },
  {
   "cell_type": "code",
   "execution_count": 8,
   "metadata": {},
   "outputs": [
    {
     "data": {
      "text/html": [
       "<div>\n",
       "<style scoped>\n",
       "    .dataframe tbody tr th:only-of-type {\n",
       "        vertical-align: middle;\n",
       "    }\n",
       "\n",
       "    .dataframe tbody tr th {\n",
       "        vertical-align: top;\n",
       "    }\n",
       "\n",
       "    .dataframe thead th {\n",
       "        text-align: right;\n",
       "    }\n",
       "</style>\n",
       "<table border=\"1\" class=\"dataframe\">\n",
       "  <thead>\n",
       "    <tr style=\"text-align: right;\">\n",
       "      <th></th>\n",
       "      <th>Red</th>\n",
       "      <th>Nodos</th>\n",
       "      <th>Enlaces</th>\n",
       "      <th>&lt;k&gt;</th>\n",
       "      <th>C</th>\n",
       "    </tr>\n",
       "  </thead>\n",
       "  <tbody>\n",
       "    <tr>\n",
       "      <th>0</th>\n",
       "      <td>Y2H</td>\n",
       "      <td>2018.0</td>\n",
       "      <td>2930.0</td>\n",
       "      <td>2.903865</td>\n",
       "      <td>0.046194</td>\n",
       "    </tr>\n",
       "    <tr>\n",
       "      <th>1</th>\n",
       "      <td>AP-MS</td>\n",
       "      <td>1622.0</td>\n",
       "      <td>9070.0</td>\n",
       "      <td>11.183724</td>\n",
       "      <td>0.554636</td>\n",
       "    </tr>\n",
       "    <tr>\n",
       "      <th>2</th>\n",
       "      <td>LIT</td>\n",
       "      <td>1536.0</td>\n",
       "      <td>2925.0</td>\n",
       "      <td>3.808594</td>\n",
       "      <td>0.292492</td>\n",
       "    </tr>\n",
       "    <tr>\n",
       "      <th>3</th>\n",
       "      <td>LIT_Reguly</td>\n",
       "      <td>3309.0</td>\n",
       "      <td>11859.0</td>\n",
       "      <td>7.167724</td>\n",
       "      <td>0.260976</td>\n",
       "    </tr>\n",
       "  </tbody>\n",
       "</table>\n",
       "</div>"
      ],
      "text/plain": [
       "          Red   Nodos  Enlaces        <k>         C\n",
       "0         Y2H  2018.0   2930.0   2.903865  0.046194\n",
       "1       AP-MS  1622.0   9070.0  11.183724  0.554636\n",
       "2         LIT  1536.0   2925.0   3.808594  0.292492\n",
       "3  LIT_Reguly  3309.0  11859.0   7.167724  0.260976"
      ]
     },
     "execution_count": 8,
     "metadata": {},
     "output_type": "execute_result"
    }
   ],
   "source": [
    "tabla = pd.DataFrame({\"Red\":archivos,\n",
    "                    \"Nodos\":N,\n",
    "                    \"Enlaces\":M,\n",
    "                    \"<k>\":k_m,\n",
    "                    \"C\":C\n",
    "                   })\n",
    "tabla"
   ]
  },
  {
   "cell_type": "code",
   "execution_count": null,
   "metadata": {},
   "outputs": [],
   "source": []
  }
 ],
 "metadata": {
  "kernelspec": {
   "display_name": "Python 3",
   "language": "python",
   "name": "python3"
  },
  "language_info": {
   "codemirror_mode": {
    "name": "ipython",
    "version": 3
   },
   "file_extension": ".py",
   "mimetype": "text/x-python",
   "name": "python",
   "nbconvert_exporter": "python",
   "pygments_lexer": "ipython3",
   "version": "3.7.0"
  }
 },
 "nbformat": 4,
 "nbformat_minor": 2
}
