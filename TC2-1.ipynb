{
 "cells": [
  {
   "cell_type": "code",
   "execution_count": 1,
   "metadata": {
    "collapsed": true
   },
   "outputs": [],
   "source": [
    "import sys\n",
    "sys.path.append('/usr/local/lib/python3.5/site-packages')\n",
    "import numpy as np\n",
    "import matplotlib.pyplot as plt\n",
    "import pandas as pd\n",
    "import networkx as nx\n",
    "import os"
   ]
  },
  {
   "cell_type": "code",
   "execution_count": 20,
   "metadata": {},
   "outputs": [],
   "source": [
    "carpeta = (os.getcwd()+'/tc02Data/') #busca en el directorio actual\n",
    "\n",
    "archivos = ['Y2H','AP-MS','LIT','LIT_Reguly']\n",
    "# Qué es el archivo Essential_ORFs_paperHe.txt ?\n"
   ]
  },
  {
   "cell_type": "code",
   "execution_count": 21,
   "metadata": {},
   "outputs": [],
   "source": [
    "L = len(archivos)\n",
    "N = np.zeros(L)\n",
    "M = np.zeros(L)\n",
    "k_m = np.zeros(L)\n",
    "C = np.zeros(L)\n",
    "\n",
    "for j,arc in enumerate(archivos):\n",
    "    data = pd.read_csv(carpeta+'yeast_'+arc+'.txt', sep='\\t', header=None)\n",
    "    \n",
    "    G = nx.Graph()\n",
    "    \n",
    "    for i in range(len(data)):\n",
    "        G.add_edges_from([(data[0][i],data[1][i])])\n",
    "    \n",
    "    N[j] = G.number_of_nodes()\n",
    "    M[j] = G.number_of_edges()\n",
    "    k_m[j] = 2*M[j]/N[j]\n",
    "    C[j] = nx.average_clustering(G)"
   ]
  },
  {
   "cell_type": "code",
   "execution_count": 23,
   "metadata": {},
   "outputs": [
    {
     "data": {
      "text/html": [
       "<div>\n",
       "<table border=\"1\" class=\"dataframe\">\n",
       "  <thead>\n",
       "    <tr style=\"text-align: right;\">\n",
       "      <th></th>\n",
       "      <th>&lt;k&gt;</th>\n",
       "      <th>C</th>\n",
       "      <th>Enlaces</th>\n",
       "      <th>Nodos</th>\n",
       "      <th>Red</th>\n",
       "    </tr>\n",
       "  </thead>\n",
       "  <tbody>\n",
       "    <tr>\n",
       "      <th>0</th>\n",
       "      <td>2.903865</td>\n",
       "      <td>0.046194</td>\n",
       "      <td>2930</td>\n",
       "      <td>2018</td>\n",
       "      <td>Y2H</td>\n",
       "    </tr>\n",
       "    <tr>\n",
       "      <th>1</th>\n",
       "      <td>11.183724</td>\n",
       "      <td>0.554636</td>\n",
       "      <td>9070</td>\n",
       "      <td>1622</td>\n",
       "      <td>AP-MS</td>\n",
       "    </tr>\n",
       "    <tr>\n",
       "      <th>2</th>\n",
       "      <td>3.808594</td>\n",
       "      <td>0.292492</td>\n",
       "      <td>2925</td>\n",
       "      <td>1536</td>\n",
       "      <td>LIT</td>\n",
       "    </tr>\n",
       "    <tr>\n",
       "      <th>3</th>\n",
       "      <td>7.167724</td>\n",
       "      <td>0.260976</td>\n",
       "      <td>11859</td>\n",
       "      <td>3309</td>\n",
       "      <td>LIT_Reguly</td>\n",
       "    </tr>\n",
       "  </tbody>\n",
       "</table>\n",
       "</div>"
      ],
      "text/plain": [
       "         <k>         C  Enlaces  Nodos         Red\n",
       "0   2.903865  0.046194     2930   2018         Y2H\n",
       "1  11.183724  0.554636     9070   1622       AP-MS\n",
       "2   3.808594  0.292492     2925   1536         LIT\n",
       "3   7.167724  0.260976    11859   3309  LIT_Reguly"
      ]
     },
     "execution_count": 23,
     "metadata": {},
     "output_type": "execute_result"
    }
   ],
   "source": [
    "tabla = pd.DataFrame({\"Red\":archivos,\n",
    "                    \"Nodos\":N,\n",
    "                    \"Enlaces\":M,\n",
    "                    \"<k>\":k_m,\n",
    "                    \"C\":C\n",
    "                   })\n",
    "tabla"
   ]
  },
  {
   "cell_type": "code",
   "execution_count": null,
   "metadata": {
    "collapsed": true
   },
   "outputs": [],
   "source": []
  }
 ],
 "metadata": {
  "kernelspec": {
   "display_name": "Python 2",
   "language": "python",
   "name": "python2"
  },
  "language_info": {
   "codemirror_mode": {
    "name": "ipython",
    "version": 2
   },
   "file_extension": ".py",
   "mimetype": "text/x-python",
   "name": "python",
   "nbconvert_exporter": "python",
   "pygments_lexer": "ipython2",
   "version": "2.7.12"
  }
 },
 "nbformat": 4,
 "nbformat_minor": 2
}
