{
 "cells": [
  {
   "cell_type": "code",
   "execution_count": 1,
   "metadata": {
    "collapsed": true
   },
   "outputs": [],
   "source": [
    "import sys\n",
    "sys.path.append('/usr/local/lib/python3.5/site-packages')\n",
    "import numpy as np\n",
    "import matplotlib.pyplot as plt\n",
    "import pandas as pd\n",
    "import networkx as nx\n",
    "import os"
   ]
  },
  {
   "cell_type": "code",
   "execution_count": 3,
   "metadata": {
    "collapsed": true
   },
   "outputs": [],
   "source": [
    "carpeta = (os.getcwd()+'/tc02Data/') #busca en el directorio actual\n",
    "\n",
    "archivos = ['Y2H','AP-MS','LIT','LIT_Reguly']"
   ]
  },
  {
   "cell_type": "code",
   "execution_count": 15,
   "metadata": {},
   "outputs": [],
   "source": [
    "# Creo vectores donde se van a guardar las propiedades de cada red\n",
    "L = len(archivos)\n",
    "N = np.zeros(L) # nodos\n",
    "M = np.zeros(L) # enlaces\n",
    "k_m = np.zeros(L) # grado medio\n",
    "C = np.zeros(L) # clustering\n",
    "Gs = [] # lista de los cuatro grafos\n",
    "\n",
    "for j,archivo in enumerate(archivos):\n",
    "    data = pd.read_csv(carpeta+'yeast_'+archivo+'.txt', sep='\\t', header=None)\n",
    "    \n",
    "    G = nx.Graph()\n",
    "    \n",
    "    for i in range(len(data)):\n",
    "        G.add_edges_from([(data[0][i],data[1][i])])\n",
    "    \n",
    "    N[j] = G.number_of_nodes()\n",
    "    M[j] = G.number_of_edges()\n",
    "    k_m[j] = 2*M[j]/N[j]\n",
    "    C[j] = nx.average_clustering(G)\n",
    "    Gs.append(G)"
   ]
  },
  {
   "cell_type": "code",
   "execution_count": 16,
   "metadata": {},
   "outputs": [],
   "source": [
    "# Correccion: el último archivo, LIT_Reguly, tiene encabezado\n",
    "# Elimino los dos nodos que están de más\n",
    "Gs[3].remove_node(\"Bait gene/protein\")\n",
    "Gs[3].remove_node(\"Hit gene/protein\")\n",
    "\n",
    "# y recalculo los datos para esa red\n",
    "N[3] = Gs[3].number_of_nodes()\n",
    "M[3] = Gs[3].number_of_edges()\n",
    "k_m[3] = 2*M[3]/N[3]\n",
    "C[3] = nx.average_clustering(Gs[3])"
   ]
  },
  {
   "cell_type": "code",
   "execution_count": 17,
   "metadata": {},
   "outputs": [
    {
     "data": {
      "text/html": [
       "<div>\n",
       "<style>\n",
       "    .dataframe thead tr:only-child th {\n",
       "        text-align: right;\n",
       "    }\n",
       "\n",
       "    .dataframe thead th {\n",
       "        text-align: left;\n",
       "    }\n",
       "\n",
       "    .dataframe tbody tr th {\n",
       "        vertical-align: top;\n",
       "    }\n",
       "</style>\n",
       "<table border=\"1\" class=\"dataframe\">\n",
       "  <thead>\n",
       "    <tr style=\"text-align: right;\">\n",
       "      <th></th>\n",
       "      <th>&lt;k&gt;</th>\n",
       "      <th>C</th>\n",
       "      <th>Enlaces</th>\n",
       "      <th>Nodos</th>\n",
       "      <th>Red</th>\n",
       "    </tr>\n",
       "  </thead>\n",
       "  <tbody>\n",
       "    <tr>\n",
       "      <th>0</th>\n",
       "      <td>2.903865</td>\n",
       "      <td>0.046194</td>\n",
       "      <td>2930.0</td>\n",
       "      <td>2018.0</td>\n",
       "      <td>Y2H</td>\n",
       "    </tr>\n",
       "    <tr>\n",
       "      <th>1</th>\n",
       "      <td>11.183724</td>\n",
       "      <td>0.554636</td>\n",
       "      <td>9070.0</td>\n",
       "      <td>1622.0</td>\n",
       "      <td>AP-MS</td>\n",
       "    </tr>\n",
       "    <tr>\n",
       "      <th>2</th>\n",
       "      <td>3.808594</td>\n",
       "      <td>0.292492</td>\n",
       "      <td>2925.0</td>\n",
       "      <td>1536.0</td>\n",
       "      <td>LIT</td>\n",
       "    </tr>\n",
       "    <tr>\n",
       "      <th>3</th>\n",
       "      <td>7.171454</td>\n",
       "      <td>0.261134</td>\n",
       "      <td>11858.0</td>\n",
       "      <td>3307.0</td>\n",
       "      <td>LIT_Reguly</td>\n",
       "    </tr>\n",
       "  </tbody>\n",
       "</table>\n",
       "</div>"
      ],
      "text/plain": [
       "         <k>         C  Enlaces   Nodos         Red\n",
       "0   2.903865  0.046194   2930.0  2018.0         Y2H\n",
       "1  11.183724  0.554636   9070.0  1622.0       AP-MS\n",
       "2   3.808594  0.292492   2925.0  1536.0         LIT\n",
       "3   7.171454  0.261134  11858.0  3307.0  LIT_Reguly"
      ]
     },
     "execution_count": 17,
     "metadata": {},
     "output_type": "execute_result"
    }
   ],
   "source": [
    "tabla = pd.DataFrame({\"Red\":archivos,\n",
    "                    \"Nodos\":N,\n",
    "                    \"Enlaces\":M,\n",
    "                    \"<k>\":k_m,\n",
    "                    \"C\":C\n",
    "                   })\n",
    "tabla"
   ]
  },
  {
   "cell_type": "code",
   "execution_count": null,
   "metadata": {
    "collapsed": true
   },
   "outputs": [],
   "source": []
  }
 ],
 "metadata": {
  "kernelspec": {
   "display_name": "Python 3",
   "language": "python",
   "name": "python3"
  },
  "language_info": {
   "codemirror_mode": {
    "name": "ipython",
    "version": 3
   },
   "file_extension": ".py",
   "mimetype": "text/x-python",
   "name": "python",
   "nbconvert_exporter": "python",
   "pygments_lexer": "ipython3",
   "version": "3.6.3"
  }
 },
 "nbformat": 4,
 "nbformat_minor": 2
}
